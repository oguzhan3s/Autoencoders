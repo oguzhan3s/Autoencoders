{
 "cells": [
  {
   "cell_type": "code",
   "execution_count": 3,
   "id": "e98ef9f2",
   "metadata": {},
   "outputs": [],
   "source": [
    "import torch\n",
    "import torch.nn as nn\n",
    "import torch.optim as optim\n",
    "from torchvision import datasets, transforms\n",
    "import matplotlib.pyplot as plt"
   ]
  },
  {
   "cell_type": "code",
   "execution_count": 4,
   "id": "429b9003",
   "metadata": {},
   "outputs": [],
   "source": [
    "transform = transforms.ToTensor()\n",
    "\n",
    "\"\"\"\n",
    "transform = transforms.Compose([\n",
    "    transforms.ToTensor(),\n",
    "    transforms.Normalize((0.5), (0.5)) # kullandığımızda decoderda tanh gerekli \n",
    "])\n",
    "\"\"\"\n",
    "\n",
    "mnist_data = datasets.MNIST(root = \"./data\", train = True, download = True, transform = transform)\n",
    "\n",
    "data_loader = torch.utils.data.DataLoader(dataset = mnist_data,\n",
    "                                         batch_size = 64,\n",
    "                                         shuffle = True)"
   ]
  },
  {
   "cell_type": "code",
   "execution_count": 5,
   "id": "e3687b2e",
   "metadata": {},
   "outputs": [
    {
     "name": "stdout",
     "output_type": "stream",
     "text": [
      "tensor(0.) tensor(1.)\n"
     ]
    }
   ],
   "source": [
    "dataiter = iter(data_loader)\n",
    "images, labels = dataiter.next()\n",
    "print(torch.min(images), torch.max(images))"
   ]
  },
  {
   "cell_type": "code",
   "execution_count": 6,
   "id": "b7ee7da3",
   "metadata": {},
   "outputs": [],
   "source": [
    "class Autoencoder(nn.Module):\n",
    "    def __init__(self):\n",
    "        # N, 784\n",
    "        super().__init__()\n",
    "        self.encoder = nn.Sequential(\n",
    "            nn.Linear(28*28, 128), #N, 784 ->  N, 128\n",
    "            nn.ReLU(),\n",
    "            nn.Linear(128, 64),\n",
    "            nn.ReLU(),\n",
    "            nn.Linear(64, 12),\n",
    "            nn.ReLU(),\n",
    "            nn.Linear(12, 3) # ->N,3        \n",
    "        ) \n",
    "        \n",
    "        self.decoder = nn.Sequential(\n",
    "            nn.Linear(3, 12), \n",
    "            nn.ReLU(),\n",
    "            nn.Linear(12, 64),\n",
    "            nn.ReLU(),\n",
    "            nn.Linear(64, 128),\n",
    "            nn.ReLU(),\n",
    "            nn.Linear(128, 28*28),\n",
    "            nn.Sigmoid()  # ->N,3 ->  N, 784\n",
    "        )\n",
    "        \n",
    "    \n",
    "    def forward(self, x):\n",
    "        encoded = self.encoder(x)\n",
    "        decoded = self.decoder(encoded)\n",
    "        return decoded\n",
    "#note [-1,1] -> nn.Tanh"
   ]
  },
  {
   "cell_type": "code",
   "execution_count": 7,
   "id": "b88cc49e",
   "metadata": {},
   "outputs": [],
   "source": [
    "model = Autoencoder()\n",
    "critertion = nn.MSELoss()\n",
    "optimizer = torch.optim.Adam(model.parameters(), lr = 1e-3, weight_decay = 1e-5)"
   ]
  },
  {
   "cell_type": "code",
   "execution_count": 8,
   "id": "92dee723",
   "metadata": {},
   "outputs": [
    {
     "name": "stdout",
     "output_type": "stream",
     "text": [
      "epoch:1, loss:0.0443\n",
      "epoch:2, loss:0.0440\n",
      "epoch:3, loss:0.0388\n",
      "epoch:4, loss:0.0358\n",
      "epoch:5, loss:0.0389\n",
      "epoch:6, loss:0.0374\n",
      "epoch:7, loss:0.0320\n",
      "epoch:8, loss:0.0370\n",
      "epoch:9, loss:0.0330\n",
      "epoch:10, loss:0.0366\n"
     ]
    }
   ],
   "source": [
    "num_epochs = 10\n",
    "outputs = []\n",
    "for epoch in range(num_epochs):\n",
    "    for (img, _) in data_loader:\n",
    "        img = img.reshape(-1, 28*28)\n",
    "        recon = model(img)\n",
    "        loss = critertion(recon, img)\n",
    "        \n",
    "        optimizer.zero_grad()\n",
    "        loss.backward()\n",
    "        optimizer.step()\n",
    "        \n",
    "    print(f'epoch:{epoch+1}, loss:{loss.item():.4f}')\n",
    "    outputs.append((epoch, img, recon))"
   ]
  },
  {
   "cell_type": "code",
   "execution_count": null,
   "id": "21072844",
   "metadata": {},
   "outputs": [],
   "source": [
    "for k in range(0, num_epochs, 4):\n",
    "    plt.figure(figsize = (9,2))\n",
    "    plt.gray()\n",
    "    imgs = outputs[k][1].detach().numpy()\n",
    "    recon = outputs[k][2].detach().numpy()\n",
    "    for i, item in enumerate(imgs):\n",
    "        if i >= 9:break\n",
    "        plt.subplot(2, 9, i+1)\n",
    "        item = item.reshape(-1, 28,28)\n",
    "        #item: 1, 28, 28\n",
    "        plt.imshow(item[0])\n",
    "        \n",
    "    for i, item in enumerate(recon):\n",
    "        if i >= 9:break\n",
    "        plt.subplot(2, 9, 9+i+1) #row_length + i + 1\n",
    "        item = item.reshape(-1, 28,28)\n",
    "        #item: 1, 28, 28\n",
    "        plt.imshow(item[0])"
   ]
  }
 ],
 "metadata": {
  "kernelspec": {
   "display_name": "Python 3 (ipykernel)",
   "language": "python",
   "name": "python3"
  },
  "language_info": {
   "codemirror_mode": {
    "name": "ipython",
    "version": 3
   },
   "file_extension": ".py",
   "mimetype": "text/x-python",
   "name": "python",
   "nbconvert_exporter": "python",
   "pygments_lexer": "ipython3",
   "version": "3.9.12"
  }
 },
 "nbformat": 4,
 "nbformat_minor": 5
}
